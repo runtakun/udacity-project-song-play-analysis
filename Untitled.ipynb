{
 "cells": [
  {
   "cell_type": "code",
   "execution_count": 5,
   "metadata": {
    "editable": true
   },
   "outputs": [
    {
     "name": "stdout",
     "output_type": "stream",
     "text": [
      "Traceback (most recent call last):\n",
      "  File \"create_tables.py\", line 70, in <module>\n",
      "    main()\n",
      "  File \"create_tables.py\", line 63, in main\n",
      "    drop_tables(cur, conn)\n",
      "  File \"create_tables.py\", line 35, in drop_tables\n",
      "    cur.execute(query)\n",
      "psycopg2.ProgrammingError: can't execute an empty query\n"
     ]
    }
   ],
   "source": [
    "!python create_tables.py"
   ]
  },
  {
   "cell_type": "code",
   "execution_count": 1,
   "metadata": {
    "editable": true
   },
   "outputs": [
    {
     "name": "stdout",
     "output_type": "stream",
     "text": [
      "Traceback (most recent call last):\n",
      "  File \"create_tables.py\", line 70, in <module>\n",
      "    main()\n",
      "  File \"create_tables.py\", line 61, in main\n",
      "    cur, conn = create_database()\n",
      "  File \"create_tables.py\", line 17, in create_database\n",
      "    cur.execute(\"DROP DATABASE IF EXISTS sparkifydb\")\n",
      "psycopg2.OperationalError: database \"sparkifydb\" is being accessed by other users\n",
      "DETAIL:  There are 5 other sessions using the database.\n",
      "\n"
     ]
    }
   ],
   "source": [
    "!python create_tables.py"
   ]
  },
  {
   "cell_type": "code",
   "execution_count": 2,
   "metadata": {
    "editable": true
   },
   "outputs": [
    {
     "name": "stdout",
     "output_type": "stream",
     "text": [
      "Traceback (most recent call last):\n",
      "  File \"create_tables.py\", line 70, in <module>\n",
      "    main()\n",
      "  File \"create_tables.py\", line 61, in main\n",
      "    cur, conn = create_database()\n",
      "  File \"create_tables.py\", line 17, in create_database\n",
      "    cur.execute(\"DROP DATABASE IF EXISTS sparkifydb\")\n",
      "psycopg2.OperationalError: database \"sparkifydb\" is being accessed by other users\n",
      "DETAIL:  There are 6 other sessions using the database.\n",
      "\n"
     ]
    }
   ],
   "source": [
    "!python create_tables.py\n"
   ]
  },
  {
   "cell_type": "code",
   "execution_count": 3,
   "metadata": {
    "editable": true
   },
   "outputs": [
    {
     "name": "stdout",
     "output_type": "stream",
     "text": [
      "Traceback (most recent call last):\n",
      "  File \"create_tables.py\", line 71, in <module>\n",
      "    main()\n",
      "  File \"create_tables.py\", line 62, in main\n",
      "    cur, conn = create_database()\n",
      "  File \"create_tables.py\", line 17, in create_database\n",
      "    cur.execute(\"DROP DATABASE IF EXISTS sparkifydb\")\n",
      "psycopg2.OperationalError: database \"sparkifydb\" is being accessed by other users\n",
      "DETAIL:  There are 7 other sessions using the database.\n",
      "\n"
     ]
    }
   ],
   "source": [
    "!python create_tables.py"
   ]
  },
  {
   "cell_type": "code",
   "execution_count": 4,
   "metadata": {
    "editable": true
   },
   "outputs": [
    {
     "name": "stdout",
     "output_type": "stream",
     "text": [
      "Traceback (most recent call last):\n",
      "  File \"create_tables.py\", line 71, in <module>\n",
      "    main()\n",
      "  File \"create_tables.py\", line 62, in main\n",
      "    cur, conn = create_database()\n",
      "  File \"create_tables.py\", line 17, in create_database\n",
      "    cur.execute(\"DROP DATABASE IF EXISTS sparkifydb\")\n",
      "psycopg2.OperationalError: database \"sparkifydb\" is being accessed by other users\n",
      "DETAIL:  There are 2 other sessions using the database.\n",
      "\n"
     ]
    }
   ],
   "source": [
    "!python create_tables.py"
   ]
  },
  {
   "cell_type": "code",
   "execution_count": null,
   "metadata": {
    "editable": true
   },
   "outputs": [],
   "source": [
    "f"
   ]
  }
 ],
 "metadata": {
  "kernelspec": {
   "display_name": "Python 3",
   "language": "python",
   "name": "python3"
  },
  "language_info": {
   "codemirror_mode": {
    "name": "ipython",
    "version": 3
   },
   "file_extension": ".py",
   "mimetype": "text/x-python",
   "name": "python",
   "nbconvert_exporter": "python",
   "pygments_lexer": "ipython3",
   "version": "3.6.3"
  }
 },
 "nbformat": 4,
 "nbformat_minor": 4
}
